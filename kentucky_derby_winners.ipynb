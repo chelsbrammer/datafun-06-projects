{
 "cells": [
  {
   "attachments": {},
   "cell_type": "markdown",
   "metadata": {},
   "source": [
    "# Module 6 Project - Task 3. Exploratory Data Project\n",
    "## Chelsea Brammer - February 20, 2023\n",
    "### Domain: Horses"
   ]
  },
  {
   "attachments": {},
   "cell_type": "markdown",
   "metadata": {},
   "source": [
    "#### Load the csv dataset into a DataFrame with pandas\n",
    "##### csv dataset is kentucky_derby_winners.csv giving data on Kentucky Derby Winners from years 1875 to 2022. "
   ]
  },
  {
   "cell_type": "code",
   "execution_count": 248,
   "metadata": {},
   "outputs": [],
   "source": [
    "import pandas as pd\n",
    "\n",
    "kentucky_derby_winners = pd.read_csv('kentucky_derby_winners.csv')"
   ]
  },
  {
   "attachments": {},
   "cell_type": "markdown",
   "metadata": {},
   "source": [
    "#### This csv file gives the following data from Kentucky Derby Winners from years 1875 to 2022:"
   ]
  },
  {
   "cell_type": "code",
   "execution_count": 249,
   "metadata": {},
   "outputs": [
    {
     "name": "stdout",
     "output_type": "stream",
     "text": [
      "List of column names:  ['year', 'winner', 'jockey', 'trainer', 'owner', 'distance', 'track_condition', 'time_string', 'time_sec', 'triple_crown_winner']\n"
     ]
    }
   ],
   "source": [
    "kd_winners_columns = list(kentucky_derby_winners.columns)\n",
    "\n",
    "print('List of column names: ', kd_winners_columns)"
   ]
  },
  {
   "attachments": {},
   "cell_type": "markdown",
   "metadata": {},
   "source": [
    "#### Who were the Kentucky Derby Winners from years 2013 to 2022?"
   ]
  },
  {
   "cell_type": "code",
   "execution_count": 250,
   "metadata": {},
   "outputs": [
    {
     "data": {
      "text/html": [
       "<div>\n",
       "<style scoped>\n",
       "    .dataframe tbody tr th:only-of-type {\n",
       "        vertical-align: middle;\n",
       "    }\n",
       "\n",
       "    .dataframe tbody tr th {\n",
       "        vertical-align: top;\n",
       "    }\n",
       "\n",
       "    .dataframe thead th {\n",
       "        text-align: right;\n",
       "    }\n",
       "</style>\n",
       "<table border=\"1\" class=\"dataframe\">\n",
       "  <thead>\n",
       "    <tr style=\"text-align: right;\">\n",
       "      <th></th>\n",
       "      <th>year</th>\n",
       "      <th>winner</th>\n",
       "      <th>jockey</th>\n",
       "      <th>trainer</th>\n",
       "      <th>owner</th>\n",
       "      <th>distance</th>\n",
       "      <th>track_condition</th>\n",
       "      <th>time_string</th>\n",
       "      <th>time_sec</th>\n",
       "      <th>triple_crown_winner</th>\n",
       "    </tr>\n",
       "  </thead>\n",
       "  <tbody>\n",
       "    <tr>\n",
       "      <th>0</th>\n",
       "      <td>2022</td>\n",
       "      <td>Rich Strike</td>\n",
       "      <td>Sonny Leon</td>\n",
       "      <td>Eric Reed</td>\n",
       "      <td>RED TR-Racing</td>\n",
       "      <td>1.25</td>\n",
       "      <td>Fast</td>\n",
       "      <td>2:02.61</td>\n",
       "      <td>122.61</td>\n",
       "      <td>False</td>\n",
       "    </tr>\n",
       "    <tr>\n",
       "      <th>1</th>\n",
       "      <td>2021</td>\n",
       "      <td>Mandaloun</td>\n",
       "      <td>Florent Geroux</td>\n",
       "      <td>Brad H. Cox</td>\n",
       "      <td>Juddmonte Farm</td>\n",
       "      <td>1.25</td>\n",
       "      <td>Fast</td>\n",
       "      <td>2:01.02</td>\n",
       "      <td>121.02</td>\n",
       "      <td>False</td>\n",
       "    </tr>\n",
       "    <tr>\n",
       "      <th>2</th>\n",
       "      <td>2020</td>\n",
       "      <td>Authentic</td>\n",
       "      <td>John Velazquez</td>\n",
       "      <td>Bob Baffert</td>\n",
       "      <td>Spendthrift Farm LLC, MyRaceHorse Stable, Mada...</td>\n",
       "      <td>1.25</td>\n",
       "      <td>Fast</td>\n",
       "      <td>2:00.61</td>\n",
       "      <td>120.61</td>\n",
       "      <td>False</td>\n",
       "    </tr>\n",
       "    <tr>\n",
       "      <th>3</th>\n",
       "      <td>2019</td>\n",
       "      <td>Country House</td>\n",
       "      <td>Flavien Prat</td>\n",
       "      <td>Bill Mott</td>\n",
       "      <td>Mrs. J.V. Shields Jr., E. J. M. McFadden Jr. a...</td>\n",
       "      <td>1.25</td>\n",
       "      <td>Sloppy</td>\n",
       "      <td>2:03.93</td>\n",
       "      <td>123.93</td>\n",
       "      <td>False</td>\n",
       "    </tr>\n",
       "    <tr>\n",
       "      <th>4</th>\n",
       "      <td>2018</td>\n",
       "      <td>Justify</td>\n",
       "      <td>Mike E. Smith</td>\n",
       "      <td>Bob Baffert</td>\n",
       "      <td>China Horse Club, Head of Plains Partners, Sta...</td>\n",
       "      <td>1.25</td>\n",
       "      <td>Sloppy</td>\n",
       "      <td>2:04.20</td>\n",
       "      <td>124.20</td>\n",
       "      <td>True</td>\n",
       "    </tr>\n",
       "    <tr>\n",
       "      <th>5</th>\n",
       "      <td>2017</td>\n",
       "      <td>Always Dreaming</td>\n",
       "      <td>John Velazquez</td>\n",
       "      <td>Todd Pletcher</td>\n",
       "      <td>MeB Racing, Brooklyn Boyz, Teresa Viola, St. E...</td>\n",
       "      <td>1.25</td>\n",
       "      <td>Wet Fast (sealed)</td>\n",
       "      <td>2:03.59</td>\n",
       "      <td>123.59</td>\n",
       "      <td>False</td>\n",
       "    </tr>\n",
       "    <tr>\n",
       "      <th>6</th>\n",
       "      <td>2016</td>\n",
       "      <td>Nyquist</td>\n",
       "      <td>Mario Gutierrez</td>\n",
       "      <td>Doug O'Neill</td>\n",
       "      <td>J. Paul Reddam</td>\n",
       "      <td>1.25</td>\n",
       "      <td>Fast</td>\n",
       "      <td>2:01.31</td>\n",
       "      <td>121.31</td>\n",
       "      <td>False</td>\n",
       "    </tr>\n",
       "    <tr>\n",
       "      <th>7</th>\n",
       "      <td>2015</td>\n",
       "      <td>American Pharoah</td>\n",
       "      <td>Victor Espinoza</td>\n",
       "      <td>Bob Baffert</td>\n",
       "      <td>Zayat Stables, LLC</td>\n",
       "      <td>1.25</td>\n",
       "      <td>Fast</td>\n",
       "      <td>2:03.02</td>\n",
       "      <td>123.02</td>\n",
       "      <td>True</td>\n",
       "    </tr>\n",
       "    <tr>\n",
       "      <th>8</th>\n",
       "      <td>2014</td>\n",
       "      <td>California Chrome</td>\n",
       "      <td>Victor Espinoza</td>\n",
       "      <td>Art Sherman</td>\n",
       "      <td>Steve Coburn &amp; Perry Martin</td>\n",
       "      <td>1.25</td>\n",
       "      <td>Fast</td>\n",
       "      <td>2:03.66</td>\n",
       "      <td>123.66</td>\n",
       "      <td>False</td>\n",
       "    </tr>\n",
       "    <tr>\n",
       "      <th>9</th>\n",
       "      <td>2013</td>\n",
       "      <td>Orb</td>\n",
       "      <td>Joel Rosario</td>\n",
       "      <td>Claude McGaughey III</td>\n",
       "      <td>Stuart S. Janney III &amp; Phipps Stable</td>\n",
       "      <td>1.25</td>\n",
       "      <td>Sloppy</td>\n",
       "      <td>2:02.89</td>\n",
       "      <td>122.89</td>\n",
       "      <td>False</td>\n",
       "    </tr>\n",
       "  </tbody>\n",
       "</table>\n",
       "</div>"
      ],
      "text/plain": [
       "   year             winner           jockey               trainer  \\\n",
       "0  2022        Rich Strike       Sonny Leon             Eric Reed   \n",
       "1  2021          Mandaloun   Florent Geroux           Brad H. Cox   \n",
       "2  2020          Authentic   John Velazquez           Bob Baffert   \n",
       "3  2019      Country House     Flavien Prat             Bill Mott   \n",
       "4  2018            Justify    Mike E. Smith           Bob Baffert   \n",
       "5  2017    Always Dreaming   John Velazquez         Todd Pletcher   \n",
       "6  2016            Nyquist  Mario Gutierrez          Doug O'Neill   \n",
       "7  2015   American Pharoah  Victor Espinoza           Bob Baffert   \n",
       "8  2014  California Chrome  Victor Espinoza           Art Sherman   \n",
       "9  2013                Orb     Joel Rosario  Claude McGaughey III   \n",
       "\n",
       "                                               owner  distance  \\\n",
       "0                                      RED TR-Racing      1.25   \n",
       "1                                     Juddmonte Farm      1.25   \n",
       "2  Spendthrift Farm LLC, MyRaceHorse Stable, Mada...      1.25   \n",
       "3  Mrs. J.V. Shields Jr., E. J. M. McFadden Jr. a...      1.25   \n",
       "4  China Horse Club, Head of Plains Partners, Sta...      1.25   \n",
       "5  MeB Racing, Brooklyn Boyz, Teresa Viola, St. E...      1.25   \n",
       "6                                     J. Paul Reddam      1.25   \n",
       "7                                 Zayat Stables, LLC      1.25   \n",
       "8                        Steve Coburn & Perry Martin      1.25   \n",
       "9               Stuart S. Janney III & Phipps Stable      1.25   \n",
       "\n",
       "     track_condition time_string  time_sec  triple_crown_winner  \n",
       "0               Fast     2:02.61    122.61                False  \n",
       "1               Fast     2:01.02    121.02                False  \n",
       "2               Fast     2:00.61    120.61                False  \n",
       "3             Sloppy     2:03.93    123.93                False  \n",
       "4             Sloppy     2:04.20    124.20                 True  \n",
       "5  Wet Fast (sealed)     2:03.59    123.59                False  \n",
       "6               Fast     2:01.31    121.31                False  \n",
       "7               Fast     2:03.02    123.02                 True  \n",
       "8               Fast     2:03.66    123.66                False  \n",
       "9             Sloppy     2:02.89    122.89                False  "
      ]
     },
     "execution_count": 250,
     "metadata": {},
     "output_type": "execute_result"
    }
   ],
   "source": [
    "kentucky_derby_winners.head(10)"
   ]
  },
  {
   "attachments": {},
   "cell_type": "markdown",
   "metadata": {},
   "source": [
    "#### Who were the Kentucky Derby Winners from years 1875 to 1884?"
   ]
  },
  {
   "cell_type": "code",
   "execution_count": 251,
   "metadata": {},
   "outputs": [
    {
     "data": {
      "text/html": [
       "<div>\n",
       "<style scoped>\n",
       "    .dataframe tbody tr th:only-of-type {\n",
       "        vertical-align: middle;\n",
       "    }\n",
       "\n",
       "    .dataframe tbody tr th {\n",
       "        vertical-align: top;\n",
       "    }\n",
       "\n",
       "    .dataframe thead th {\n",
       "        text-align: right;\n",
       "    }\n",
       "</style>\n",
       "<table border=\"1\" class=\"dataframe\">\n",
       "  <thead>\n",
       "    <tr style=\"text-align: right;\">\n",
       "      <th></th>\n",
       "      <th>year</th>\n",
       "      <th>winner</th>\n",
       "      <th>jockey</th>\n",
       "      <th>trainer</th>\n",
       "      <th>owner</th>\n",
       "      <th>distance</th>\n",
       "      <th>track_condition</th>\n",
       "      <th>time_string</th>\n",
       "      <th>time_sec</th>\n",
       "      <th>triple_crown_winner</th>\n",
       "    </tr>\n",
       "  </thead>\n",
       "  <tbody>\n",
       "    <tr>\n",
       "      <th>138</th>\n",
       "      <td>1884</td>\n",
       "      <td>Buchanan</td>\n",
       "      <td>Isaac Murphy</td>\n",
       "      <td>William Bird</td>\n",
       "      <td>Samuel S. Brown &amp; William Cottrill</td>\n",
       "      <td>1.5</td>\n",
       "      <td>Good</td>\n",
       "      <td>2:40.25</td>\n",
       "      <td>160.25</td>\n",
       "      <td>False</td>\n",
       "    </tr>\n",
       "    <tr>\n",
       "      <th>139</th>\n",
       "      <td>1883</td>\n",
       "      <td>Leonatus</td>\n",
       "      <td>William Donohue</td>\n",
       "      <td>Raleigh Colston Sr.</td>\n",
       "      <td>Jack P. Chinn &amp; George W. Morgan</td>\n",
       "      <td>1.5</td>\n",
       "      <td>Heavy</td>\n",
       "      <td>2:43.0</td>\n",
       "      <td>163.00</td>\n",
       "      <td>False</td>\n",
       "    </tr>\n",
       "    <tr>\n",
       "      <th>140</th>\n",
       "      <td>1882</td>\n",
       "      <td>Apollo</td>\n",
       "      <td>Babe Hurd</td>\n",
       "      <td>Green B. Morris</td>\n",
       "      <td>Morris &amp; Patton</td>\n",
       "      <td>1.5</td>\n",
       "      <td>Fast</td>\n",
       "      <td>2:40.25</td>\n",
       "      <td>160.25</td>\n",
       "      <td>False</td>\n",
       "    </tr>\n",
       "    <tr>\n",
       "      <th>141</th>\n",
       "      <td>1881</td>\n",
       "      <td>Hindoo</td>\n",
       "      <td>Jim McLaughlin</td>\n",
       "      <td>James G. Rowe Sr.</td>\n",
       "      <td>Dwyer Bros. Stable</td>\n",
       "      <td>1.5</td>\n",
       "      <td>Fast</td>\n",
       "      <td>2:40.0</td>\n",
       "      <td>160.00</td>\n",
       "      <td>False</td>\n",
       "    </tr>\n",
       "    <tr>\n",
       "      <th>142</th>\n",
       "      <td>1880</td>\n",
       "      <td>Fonso</td>\n",
       "      <td>George Lewis</td>\n",
       "      <td>Tice Hutsell</td>\n",
       "      <td>J. Snell Shawhan</td>\n",
       "      <td>1.5</td>\n",
       "      <td>Fast</td>\n",
       "      <td>2:37.50</td>\n",
       "      <td>157.50</td>\n",
       "      <td>False</td>\n",
       "    </tr>\n",
       "    <tr>\n",
       "      <th>143</th>\n",
       "      <td>1879</td>\n",
       "      <td>Lord Murphy</td>\n",
       "      <td>Charlie Shauer</td>\n",
       "      <td>George Rice</td>\n",
       "      <td>Darden &amp; Co</td>\n",
       "      <td>1.5</td>\n",
       "      <td>Fast</td>\n",
       "      <td>2:37.00</td>\n",
       "      <td>157.00</td>\n",
       "      <td>False</td>\n",
       "    </tr>\n",
       "    <tr>\n",
       "      <th>144</th>\n",
       "      <td>1878</td>\n",
       "      <td>Day Star</td>\n",
       "      <td>Jimmy Carter</td>\n",
       "      <td>Lee Paul</td>\n",
       "      <td>Thomas J. Nichols</td>\n",
       "      <td>1.5</td>\n",
       "      <td>Fast</td>\n",
       "      <td>2:37.25</td>\n",
       "      <td>157.25</td>\n",
       "      <td>False</td>\n",
       "    </tr>\n",
       "    <tr>\n",
       "      <th>145</th>\n",
       "      <td>1877</td>\n",
       "      <td>Baden-Baden</td>\n",
       "      <td>Billy Walker</td>\n",
       "      <td>Edward D. Brown</td>\n",
       "      <td>Daniel Swigert</td>\n",
       "      <td>1.5</td>\n",
       "      <td>Fast</td>\n",
       "      <td>2:38.0</td>\n",
       "      <td>158.00</td>\n",
       "      <td>False</td>\n",
       "    </tr>\n",
       "    <tr>\n",
       "      <th>146</th>\n",
       "      <td>1876</td>\n",
       "      <td>Vagrant</td>\n",
       "      <td>Robert Swim</td>\n",
       "      <td>James Williams</td>\n",
       "      <td>William Astor Jr.</td>\n",
       "      <td>1.5</td>\n",
       "      <td>Fast</td>\n",
       "      <td>2:38.25</td>\n",
       "      <td>158.25</td>\n",
       "      <td>False</td>\n",
       "    </tr>\n",
       "    <tr>\n",
       "      <th>147</th>\n",
       "      <td>1875</td>\n",
       "      <td>Aristides</td>\n",
       "      <td>Oliver Lewis</td>\n",
       "      <td>Ansel Williamson</td>\n",
       "      <td>H. Price McGrath</td>\n",
       "      <td>1.5</td>\n",
       "      <td>Fast</td>\n",
       "      <td>2:37.75</td>\n",
       "      <td>157.75</td>\n",
       "      <td>False</td>\n",
       "    </tr>\n",
       "  </tbody>\n",
       "</table>\n",
       "</div>"
      ],
      "text/plain": [
       "     year       winner           jockey              trainer  \\\n",
       "138  1884     Buchanan     Isaac Murphy         William Bird   \n",
       "139  1883     Leonatus  William Donohue  Raleigh Colston Sr.   \n",
       "140  1882       Apollo        Babe Hurd      Green B. Morris   \n",
       "141  1881       Hindoo   Jim McLaughlin    James G. Rowe Sr.   \n",
       "142  1880        Fonso     George Lewis         Tice Hutsell   \n",
       "143  1879  Lord Murphy   Charlie Shauer          George Rice   \n",
       "144  1878     Day Star     Jimmy Carter             Lee Paul   \n",
       "145  1877  Baden-Baden     Billy Walker      Edward D. Brown   \n",
       "146  1876      Vagrant      Robert Swim       James Williams   \n",
       "147  1875    Aristides     Oliver Lewis     Ansel Williamson   \n",
       "\n",
       "                                  owner  distance track_condition time_string  \\\n",
       "138  Samuel S. Brown & William Cottrill       1.5            Good     2:40.25   \n",
       "139    Jack P. Chinn & George W. Morgan       1.5           Heavy      2:43.0   \n",
       "140                     Morris & Patton       1.5            Fast     2:40.25   \n",
       "141                  Dwyer Bros. Stable       1.5            Fast      2:40.0   \n",
       "142                    J. Snell Shawhan       1.5            Fast     2:37.50   \n",
       "143                         Darden & Co       1.5            Fast     2:37.00   \n",
       "144                   Thomas J. Nichols       1.5            Fast     2:37.25   \n",
       "145                      Daniel Swigert       1.5            Fast      2:38.0   \n",
       "146                   William Astor Jr.       1.5            Fast     2:38.25   \n",
       "147                    H. Price McGrath       1.5            Fast     2:37.75   \n",
       "\n",
       "     time_sec  triple_crown_winner  \n",
       "138    160.25                False  \n",
       "139    163.00                False  \n",
       "140    160.25                False  \n",
       "141    160.00                False  \n",
       "142    157.50                False  \n",
       "143    157.00                False  \n",
       "144    157.25                False  \n",
       "145    158.00                False  \n",
       "146    158.25                False  \n",
       "147    157.75                False  "
      ]
     },
     "execution_count": 251,
     "metadata": {},
     "output_type": "execute_result"
    }
   ],
   "source": [
    "kentucky_derby_winners.tail(10)"
   ]
  },
  {
   "attachments": {},
   "cell_type": "markdown",
   "metadata": {},
   "source": [
    "#### Descriptive Statistics for \"time_sec\" column"
   ]
  },
  {
   "cell_type": "code",
   "execution_count": 252,
   "metadata": {},
   "outputs": [
    {
     "data": {
      "text/plain": [
       "count    148.00\n",
       "mean     129.18\n",
       "std       12.80\n",
       "min      119.40\n",
       "25%      122.20\n",
       "50%      124.00\n",
       "75%      128.27\n",
       "max      172.25\n",
       "Name: time_sec, dtype: float64"
      ]
     },
     "execution_count": 252,
     "metadata": {},
     "output_type": "execute_result"
    }
   ],
   "source": [
    "kentucky_derby_winners['time_sec'].describe()"
   ]
  },
  {
   "attachments": {},
   "cell_type": "markdown",
   "metadata": {},
   "source": [
    "#### Track Condition Descriptions:"
   ]
  },
  {
   "cell_type": "code",
   "execution_count": 253,
   "metadata": {},
   "outputs": [
    {
     "data": {
      "text/plain": [
       "array(['Fast', 'Sloppy', 'Wet Fast (sealed)', 'Good', 'Muddy', 'Slow',\n",
       "       'Heavy'], dtype=object)"
      ]
     },
     "execution_count": 253,
     "metadata": {},
     "output_type": "execute_result"
    }
   ],
   "source": [
    "track_conditions = kentucky_derby_winners[\"track_condition\"].unique()\n",
    "\n",
    "track_conditions    "
   ]
  },
  {
   "attachments": {},
   "cell_type": "markdown",
   "metadata": {},
   "source": [
    "#### How many times were there Triple Crown Winners?"
   ]
  },
  {
   "cell_type": "code",
   "execution_count": 254,
   "metadata": {},
   "outputs": [
    {
     "name": "stdout",
     "output_type": "stream",
     "text": [
      "                     year  winner  jockey  trainer  owner  distance  \\\n",
      "triple_crown_winner                                                   \n",
      "False                 135     135     135      135    135       135   \n",
      "True                   13      13      13       13     13        13   \n",
      "\n",
      "                     track_condition  time_string  time_sec  \n",
      "triple_crown_winner                                          \n",
      "False                            135          135       135  \n",
      "True                              13           13        13  \n"
     ]
    }
   ],
   "source": [
    "import numpy as np\n",
    "\n",
    "triple_crown = kentucky_derby_winners.groupby(\"triple_crown_winner\",sort=True).count()\n",
    "\n",
    "print(triple_crown)"
   ]
  },
  {
   "attachments": {},
   "cell_type": "markdown",
   "metadata": {},
   "source": [
    "#### Time Histogram - Kentucky Derby Winners 1875 - 2022"
   ]
  },
  {
   "cell_type": "code",
   "execution_count": 255,
   "metadata": {},
   "outputs": [
    {
     "data": {
      "image/png": "[encoded data removed]",
      "text/plain": [
       "<Figure size 640x480 with 1 Axes>"
      ]
     },
     "metadata": {},
     "output_type": "display_data"
    }
   ],
   "source": [
    "time_histogram = kentucky_derby_winners.hist('time_sec')"
   ]
  }
 ],
 "metadata": {
  "kernelspec": {
   "display_name": "base",
   "language": "python",
   "name": "python3"
  },
  "language_info": {
   "codemirror_mode": {
    "name": "ipython",
    "version": 3
   },
   "file_extension": ".py",
   "mimetype": "text/x-python",
   "name": "python",
   "nbconvert_exporter": "python",
   "pygments_lexer": "ipython3",
   "version": "3.9.16"
  },
  "orig_nbformat": 4,
  "vscode": {
   "interpreter": {
    "hash": "95ac046d6a232a1bc0a9c228c8128ad1ea9eb710a04cb41626c30bc6a6a2cbd2"
   }
  }
 },
 "nbformat": 4,
 "nbformat_minor": 2
}
